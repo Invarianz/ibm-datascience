{
 "cells": [
  {
   "cell_type": "markdown",
   "id": "90aac6ba",
   "metadata": {},
   "source": [
    "# Data Science Tools and Ecosystem"
   ]
  },
  {
   "cell_type": "markdown",
   "id": "2c4e3463",
   "metadata": {},
   "source": [
    "## Author\n",
    "Patrick Grössing"
   ]
  },
  {
   "cell_type": "markdown",
   "id": "f4e21245",
   "metadata": {},
   "source": [
    "In this notebook, Data Science Tools and Ecosystem are summarized."
   ]
  },
  {
   "cell_type": "markdown",
   "id": "896dfa2e",
   "metadata": {},
   "source": [
    "**Objectives:**\n",
    "- List of popular Data Science languages\n",
    "- List of popular Data Science libraries\n",
    "- List of popular Data Science Development Environments\n",
    "- Examples of arithmetic expressions"
   ]
  },
  {
   "cell_type": "markdown",
   "id": "97b4089e",
   "metadata": {},
   "source": [
    "Some of the popular languages that Data Scientists use are:\n",
    "1. Python\n",
    "2. R\n",
    "3. Julia\n",
    "4. Scala\n",
    "5. C++"
   ]
  },
  {
   "cell_type": "markdown",
   "id": "b8397a55",
   "metadata": {},
   "source": [
    "Some of the commonly used libraries used by Data Scientists include:\n",
    "1. Pandas\n",
    "2. PyTorch\n",
    "3. TensorFlow\n",
    "4. Matplotlib\n",
    "5. Ggplot2\n",
    "6. Apache Spark"
   ]
  },
  {
   "cell_type": "markdown",
   "id": "c36f3947",
   "metadata": {},
   "source": [
    "| Data Science Tools |\n",
    "| :-:                |\n",
    "| VSCode             |\n",
    "| RStudio            |\n",
    "| JupyterLab         |"
   ]
  },
  {
   "cell_type": "markdown",
   "id": "de73d0e3",
   "metadata": {},
   "source": [
    "### Below are a few examples of evaluating arithmetic expressions in Python"
   ]
  },
  {
   "cell_type": "code",
   "execution_count": 1,
   "id": "d6e37293",
   "metadata": {},
   "outputs": [
    {
     "data": {
      "text/plain": [
       "17"
      ]
     },
     "execution_count": 1,
     "metadata": {},
     "output_type": "execute_result"
    },
    {
     "data": {
      "text/plain": [
       "<Figure size 640x480 with 0 Axes>"
      ]
     },
     "metadata": {},
     "output_type": "display_data"
    }
   ],
   "source": [
    "# This is a simple arithmetic expression to multiply then add integers\n",
    "(3*4)+5"
   ]
  },
  {
   "cell_type": "code",
   "execution_count": 2,
   "id": "7563d085",
   "metadata": {},
   "outputs": [
    {
     "data": {
      "text/plain": [
       "3.33"
      ]
     },
     "execution_count": 2,
     "metadata": {},
     "output_type": "execute_result"
    }
   ],
   "source": [
    "# This will convert 200 minutes to hours bi dividing by 60\n",
    "round(200/60, 2)"
   ]
  },
  {
   "cell_type": "code",
   "execution_count": null,
   "id": "80e9e730",
   "metadata": {},
   "outputs": [],
   "source": []
  }
 ],
 "metadata": {
  "kernelspec": {
   "display_name": "Python 3 (ipykernel)",
   "language": "python",
   "name": "python3"
  },
  "language_info": {
   "codemirror_mode": {
    "name": "ipython",
    "version": 3
   },
   "file_extension": ".py",
   "mimetype": "text/x-python",
   "name": "python",
   "nbconvert_exporter": "python",
   "pygments_lexer": "ipython3",
   "version": "3.11.3"
  }
 },
 "nbformat": 4,
 "nbformat_minor": 5
}
